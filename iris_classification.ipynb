{
  "nbformat": 4,
  "nbformat_minor": 0,
  "metadata": {
    "colab": {
      "provenance": [],
      "authorship_tag": "ABX9TyOQmB7Gjg7m39v9Z6EueWH+",
      "include_colab_link": true
    },
    "kernelspec": {
      "name": "python3",
      "display_name": "Python 3"
    },
    "language_info": {
      "name": "python"
    }
  },
  "cells": [
    {
      "cell_type": "markdown",
      "metadata": {
        "id": "view-in-github",
        "colab_type": "text"
      },
      "source": [
        "<a href=\"https://colab.research.google.com/github/Nitish-37/Machine-Learning-projects/blob/main/iris_classification.ipynb\" target=\"_parent\"><img src=\"https://colab.research.google.com/assets/colab-badge.svg\" alt=\"Open In Colab\"/></a>"
      ]
    },
    {
      "cell_type": "code",
      "source": [
        "# Import necessary libraries\n",
        "import pandas as pd\n",
        "from sklearn.model_selection import train_test_split\n",
        "from sklearn.preprocessing import StandardScaler\n",
        "from sklearn.svm import SVC\n",
        "from sklearn.metrics import accuracy_score\n",
        "\n",
        "# Load the Iris dataset\n",
        "data = pd.read_csv(\"/content/iris.csv\")\n",
        "\n",
        "# Separate features and target variable\n",
        "features = data[[\"sepal_length\", \"sepal_width\", \"petal_length\", \"petal_width\"]]\n",
        "target = data[\"species\"]\n",
        "\n",
        "# Standardize features\n",
        "scaler = StandardScaler()\n",
        "features_scaled = scaler.fit_transform(features)\n",
        "\n",
        "# Split data into training and testing sets\n",
        "X_train, X_test, y_train, y_test = train_test_split(features_scaled, target, test_size=0.3, random_state=0)\n",
        "\n",
        "# Create an SVM classifier object\n",
        "svm = SVC(kernel=\"rbf\", C=1.0)\n",
        "\n",
        "# Train the model\n",
        "svm.fit(X_train, y_train)\n",
        "\n",
        "# Make predictions on the test set\n",
        "y_pred = svm.predict(X_test)\n",
        "# Evaluate the model accuracy\n",
        "accuracy = accuracy_score(y_test, y_pred)\n",
        "print(f\"Accuracy: {accuracy:.4f}\")\n",
        "\n"
      ],
      "metadata": {
        "colab": {
          "base_uri": "https://localhost:8080/"
        },
        "id": "KzCwZTzXpg7z",
        "outputId": "152173e1-bfbc-485f-89d2-bae598230f71"
      },
      "execution_count": null,
      "outputs": [
        {
          "output_type": "stream",
          "name": "stdout",
          "text": [
            "Accuracy: 0.9778\n"
          ]
        }
      ]
    },
    {
      "cell_type": "code",
      "source": [
        "# Add the following code to the existing SVM code:\n",
        "def predict_new_data(sepal_length, sepal_width, petal_length, petal_width):\n",
        "  \"\"\"\n",
        "  Predicts the species of a new Iris flower based on its features.\n",
        "\n",
        "  Args:\n",
        "    sepal_length: Sepal length in cm.\n",
        "    sepal_width: Sepal width in cm.\n",
        "    petal_length: Petal length in cm.\n",
        "    petal_width: Petal width in cm.\n",
        "\n",
        "  Returns:\n",
        "    The predicted species of the Iris flower.\n",
        "  \"\"\"\n",
        "  # Create a new data point\n",
        "  new_data = pd.DataFrame({\n",
        "    \"sepal_length\": [sepal_length],\n",
        "    \"sepal_width\": [sepal_width],\n",
        "    \"petal_length\": [petal_length],\n",
        "    \"petal_width\": [petal_width],\n",
        "  })\n",
        "\n",
        "  # Standardize the new data\n",
        "  new_data_scaled = scaler.transform(new_data)\n",
        "\n",
        "  # Make predictions on the new data\n",
        "  predicted_species = svm.predict(new_data_scaled)[0]\n",
        "\n",
        "  return predicted_species\n",
        "\n",
        "# Example usage\n",
        "predicted_species = predict_new_data(5.2, 3.5, 1.4, 0.2)\n",
        "print(f\"Predicted species: {predicted_species}\")\n"
      ],
      "metadata": {
        "colab": {
          "base_uri": "https://localhost:8080/"
        },
        "id": "T5YcGD3xso3t",
        "outputId": "8fa7b9b1-9610-44ef-bd4f-c81f39f81ddc"
      },
      "execution_count": null,
      "outputs": [
        {
          "output_type": "stream",
          "name": "stdout",
          "text": [
            "Predicted species: setosa\n"
          ]
        }
      ]
    }
  ]
}